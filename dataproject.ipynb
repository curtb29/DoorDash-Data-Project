{
 "cells": [
  {
   "cell_type": "code",
   "execution_count": 1,
   "id": "16ea4aef-0480-4cd7-b50b-ce875a7b61fc",
   "metadata": {},
   "outputs": [],
   "source": [
    "import pandas as pd\n",
    "import numpy as np\n",
    "from matplotlib import pyplot as plt\n",
    "import seaborn as sns\n",
    "\n",
    "%matplotlib inline \n",
    "\n"
   ]
  },
  {
   "cell_type": "code",
   "execution_count": 2,
   "id": "7f33d37e-edee-4704-b42c-b158ca4495d2",
   "metadata": {},
   "outputs": [
    {
     "ename": "SyntaxError",
     "evalue": "invalid syntax (2797592888.py, line 1)",
     "output_type": "error",
     "traceback": [
      "\u001b[1;36m  File \u001b[1;32m\"C:\\Users\\curti\\AppData\\Local\\Temp\\ipykernel_6668\\2797592888.py\"\u001b[1;36m, line \u001b[1;32m1\u001b[0m\n\u001b[1;33m    rectimes = [17:00, 17:00, 17:12, 17:42, 18:13, 18:37, 18:49, 18:49, 19:24, 19:44, 12:24, 12:24, 13:00, 13:35, 13:38, 14:20, 14:50, 17:00, 17:41, 18:02, 18:03, 18:38, 19:06, 19:07, 19:08, 19:34, 19:54, 19:54, 20:12, 11:28, 11:45, 12:48, 12:58, 13:00, 13:31, 13:32, 17:13, 17:45, 18:00, 18:48, 19:13, 19:22, 19:41, 19:56, 20:24, 16:19, 16:50, 16:51, 17:18, 17:46, 18:11, 18:11, 18:44, 18:48, 19:07, 19:23, 19:23, 19:41, 19:46, 21:17, 21:37, 21:39, 22:08, 16:44, 16:54, 17:28, 17:45, 17:57, 18:24, 18:24, 18:47, 18:49, 18:58, 19:11, 19:14, 19:17, 19:57, 19:57, 20:36, 21:04, 21:13, 21:13, 17:01, 17:45, 17:45, 18:29, 18:55, 19:18, 19:41, 19:46, 20:12, 17:04, 17:27, 17:50, 18:11, 18:11, 18:41, 19:30, 19:58, 20:20, 11:34, 16:49, 16:48, 17:38, 18:02, 18:13, 18:36, 18:36, 19:23, 19:39]\u001b[0m\n\u001b[1;37m                  ^\u001b[0m\n\u001b[1;31mSyntaxError\u001b[0m\u001b[1;31m:\u001b[0m invalid syntax\n"
     ]
    }
   ],
   "source": [
    "rectimes = [17:00, 17:00, 17:12, 17:42, 18:13, 18:37, 18:49, 18:49, 19:24, 19:44, 12:24, 12:24, 13:00, 13:35, 13:38, 14:20, 14:50, 17:00, 17:41, 18:02, 18:03, 18:38, 19:06, 19:07, 19:08, 19:34, 19:54, 19:54, 20:12, 11:28, 11:45, 12:48, 12:58, 13:00, 13:31, 13:32, 17:13, 17:45, 18:00, 18:48, 19:13, 19:22, 19:41, 19:56, 20:24, 16:19, 16:50, 16:51, 17:18, 17:46, 18:11, 18:11, 18:44, 18:48, 19:07, 19:23, 19:23, 19:41, 19:46, 21:17, 21:37, 21:39, 22:08, 16:44, 16:54, 17:28, 17:45, 17:57, 18:24, 18:24, 18:47, 18:49, 18:58, 19:11, 19:14, 19:17, 19:57, 19:57, 20:36, 21:04, 21:13, 21:13, 17:01, 17:45, 17:45, 18:29, 18:55, 19:18, 19:41, 19:46, 20:12, 17:04, 17:27, 17:50, 18:11, 18:11, 18:41, 19:30, 19:58, 20:20, 11:34, 16:49, 16:48, 17:38, 18:02, 18:13, 18:36, 18:36, 19:23, 19:39]\n",
    "\n",
    "binsep = [1:00, 2:00, 3:00, 4:00, 5:00, 6:00, 7:00, 8:00, 9:00, 10:00, 11:00, 12:00, 13:00, 14:00, 15:00, 16:00, 17:00, 18:00, 19:00, 20:00, 21:00, 22:00, 23:00, 24:00]\n",
    "plt.hist(rectimes, bins=binsep, edgecolor='white')"
   ]
  },
  {
   "cell_type": "code",
   "execution_count": 3,
   "id": "f1e539e2-6c42-432b-9c91-1dd14fd52454",
   "metadata": {},
   "outputs": [
    {
     "data": {
      "image/png": "[encoded data removed]",
      "text/plain": [
       "<Figure size 640x480 with 1 Axes>"
      ]
     },
     "metadata": {},
     "output_type": "display_data"
    }
   ],
   "source": [
    "import matplotlib.pyplot as plt\n",
    "import matplotlib.dates as mdates\n",
    "from datetime import datetime, timedelta\n",
    "\n",
    "def time_to_minutes(time_str):\n",
    "    \"\"\"Convert time string HH:MM to minutes since start of the day.\"\"\"\n",
    "    time_obj = datetime.strptime(time_str, '%H:%M')\n",
    "    return time_obj.hour * 60 + time_obj.minute\n",
    "\n",
    "# Define time lists\n",
    "rectimes = [\n",
    "    '17:00', '17:00', '17:12', '17:42', '18:13', '18:37', '18:49', '18:49',\n",
    "    '19:24', '19:44', '12:24', '12:24', '13:00', '13:35', '13:38', '14:20',\n",
    "    '14:50', '17:00', '17:41', '18:02', '18:03', '18:38', '19:06', '19:07',\n",
    "    '19:08', '19:34', '19:54', '19:54', '20:12', '11:28', '11:45', '12:48',\n",
    "    '12:58', '13:00', '13:31', '13:32', '17:13', '17:45', '18:00', '18:48',\n",
    "    '19:13', '19:22', '19:41', '19:56', '20:24', '16:19', '16:50', '16:51',\n",
    "    '17:18', '17:46', '18:11', '18:11', '18:44', '18:48', '19:07', '19:23',\n",
    "    '19:23', '19:41', '19:46', '21:17', '21:37', '21:39', '22:08', '16:44',\n",
    "    '16:54', '17:28', '17:45', '17:57', '18:24', '18:24', '18:47', '18:49',\n",
    "    '18:58', '19:11', '19:14', '19:17', '19:57', '19:57', '20:36', '21:04',\n",
    "    '21:13', '21:13', '17:01', '17:45', '17:45', '18:29', '18:55', '19:18',\n",
    "    '19:41', '19:46', '20:12', '17:04', '17:27', '17:50', '18:11', '18:11',\n",
    "    '18:41', '19:30', '19:58', '20:20', '11:34', '16:49', '16:48', '17:38',\n",
    "    '18:02', '18:13', '18:36', '18:36', '19:23', '19:39'\n",
    "]\n",
    "\n",
    "binsep = [\n",
    "    '00:00', '01:00', '02:00', '03:00', '04:00', '05:00', '06:00', '07:00', '08:00',\n",
    "    '09:00', '10:00', '11:00', '12:00', '13:00', '14:00', '15:00', '16:00',\n",
    "    '17:00', '18:00', '19:00', '20:00', '21:00', '22:00', '23:00'\n",
    "]\n",
    "\n",
    "# Convert time strings to minutes\n",
    "rectimes_minutes = [time_to_minutes(t) for t in rectimes]\n",
    "binsep_minutes = [time_to_minutes(t) for t in binsep]\n",
    "\n",
    "# Plot histogram\n",
    "plt.hist(rectimes_minutes, bins=binsep_minutes, edgecolor='white')\n",
    "\n",
    "# Format x-axis to show times\n",
    "plt.gca().xaxis.set_major_locator(plt.FixedLocator(binsep_minutes))\n",
    "plt.gca().xaxis.set_major_formatter(plt.FuncFormatter(lambda x, _: str(timedelta(minutes=int(x)))))\n",
    "\n",
    "plt.xlabel('Time')\n",
    "plt.ylabel('Frequency')\n",
    "plt.title('Histogram of Times')\n",
    "plt.xticks(rotation=45)\n",
    "plt.tight_layout()\n",
    "\n",
    "plt.show()\n"
   ]
  },
  {
   "cell_type": "code",
   "execution_count": 16,
   "id": "771cb155-fd29-4ec5-a937-837cb2e8744b",
   "metadata": {},
   "outputs": [],
   "source": [
    "import xlrd"
   ]
  },
  {
   "cell_type": "code",
   "execution_count": 5,
   "id": "3c31b6d9-cc22-4668-9fd0-fff587619da8",
   "metadata": {},
   "outputs": [],
   "source": [
    "import sqlite3 as sql"
   ]
  },
  {
   "cell_type": "code",
   "execution_count": 27,
   "id": "de18eba1-98e6-4459-ae01-0ee3d2d7593e",
   "metadata": {},
   "outputs": [
    {
     "data": {
      "text/html": [
       "<div>\n",
       "<style scoped>\n",
       "    .dataframe tbody tr th:only-of-type {\n",
       "        vertical-align: middle;\n",
       "    }\n",
       "\n",
       "    .dataframe tbody tr th {\n",
       "        vertical-align: top;\n",
       "    }\n",
       "\n",
       "    .dataframe thead th {\n",
       "        text-align: right;\n",
       "    }\n",
       "</style>\n",
       "<table border=\"1\" class=\"dataframe\">\n",
       "  <thead>\n",
       "    <tr style=\"text-align: right;\">\n",
       "      <th></th>\n",
       "      <th>0</th>\n",
       "      <th>Date</th>\n",
       "      <th>Day</th>\n",
       "      <th>RecTime</th>\n",
       "      <th>Tip</th>\n",
       "      <th>Base</th>\n",
       "      <th>Peak</th>\n",
       "      <th>PU</th>\n",
       "      <th>DOTime</th>\n",
       "      <th>Linked</th>\n",
       "      <th>LinkCase</th>\n",
       "      <th>Completed</th>\n",
       "      <th>Time of Day</th>\n",
       "      <th>Total Pay</th>\n",
       "    </tr>\n",
       "  </thead>\n",
       "  <tbody>\n",
       "    <tr>\n",
       "      <th>0</th>\n",
       "      <td>1</td>\n",
       "      <td>2024-08-02</td>\n",
       "      <td>NaN</td>\n",
       "      <td>NaN</td>\n",
       "      <td>2.0</td>\n",
       "      <td>2.0</td>\n",
       "      <td>0.0</td>\n",
       "      <td>Wawa</td>\n",
       "      <td>17:19:00</td>\n",
       "      <td>0</td>\n",
       "      <td>0</td>\n",
       "      <td>1</td>\n",
       "      <td>NaN</td>\n",
       "      <td>4.0</td>\n",
       "    </tr>\n",
       "    <tr>\n",
       "      <th>1</th>\n",
       "      <td>2</td>\n",
       "      <td>2024-08-02</td>\n",
       "      <td>NaN</td>\n",
       "      <td>NaN</td>\n",
       "      <td>2.5</td>\n",
       "      <td>2.0</td>\n",
       "      <td>0.0</td>\n",
       "      <td>Chick-Fil-A</td>\n",
       "      <td>17:33:00</td>\n",
       "      <td>0</td>\n",
       "      <td>0</td>\n",
       "      <td>1</td>\n",
       "      <td>NaN</td>\n",
       "      <td>4.5</td>\n",
       "    </tr>\n",
       "    <tr>\n",
       "      <th>2</th>\n",
       "      <td>3</td>\n",
       "      <td>2024-08-02</td>\n",
       "      <td>NaN</td>\n",
       "      <td>NaN</td>\n",
       "      <td>7.0</td>\n",
       "      <td>2.0</td>\n",
       "      <td>0.0</td>\n",
       "      <td>Humble Wood Fire</td>\n",
       "      <td>18:08:00</td>\n",
       "      <td>1</td>\n",
       "      <td>0</td>\n",
       "      <td>1</td>\n",
       "      <td>NaN</td>\n",
       "      <td>9.0</td>\n",
       "    </tr>\n",
       "    <tr>\n",
       "      <th>3</th>\n",
       "      <td>4</td>\n",
       "      <td>2024-08-02</td>\n",
       "      <td>NaN</td>\n",
       "      <td>NaN</td>\n",
       "      <td>6.0</td>\n",
       "      <td>2.0</td>\n",
       "      <td>0.0</td>\n",
       "      <td>Liquid Ginger</td>\n",
       "      <td>18:13:00</td>\n",
       "      <td>1</td>\n",
       "      <td>0</td>\n",
       "      <td>1</td>\n",
       "      <td>NaN</td>\n",
       "      <td>8.0</td>\n",
       "    </tr>\n",
       "    <tr>\n",
       "      <th>4</th>\n",
       "      <td>5</td>\n",
       "      <td>2024-08-02</td>\n",
       "      <td>NaN</td>\n",
       "      <td>NaN</td>\n",
       "      <td>5.0</td>\n",
       "      <td>2.0</td>\n",
       "      <td>0.0</td>\n",
       "      <td>KFC</td>\n",
       "      <td>18:29:00</td>\n",
       "      <td>0</td>\n",
       "      <td>0</td>\n",
       "      <td>1</td>\n",
       "      <td>NaN</td>\n",
       "      <td>7.0</td>\n",
       "    </tr>\n",
       "  </tbody>\n",
       "</table>\n",
       "</div>"
      ],
      "text/plain": [
       "   0       Date Day  RecTime  Tip  Base  Peak                PU    DOTime  \\\n",
       "0  1 2024-08-02  NaN     NaN  2.0   2.0   0.0              Wawa  17:19:00   \n",
       "1  2 2024-08-02  NaN     NaN  2.5   2.0   0.0       Chick-Fil-A  17:33:00   \n",
       "2  3 2024-08-02  NaN     NaN  7.0   2.0   0.0  Humble Wood Fire  18:08:00   \n",
       "3  4 2024-08-02  NaN     NaN  6.0   2.0   0.0     Liquid Ginger  18:13:00   \n",
       "4  5 2024-08-02  NaN     NaN  5.0   2.0   0.0               KFC  18:29:00   \n",
       "\n",
       "   Linked LinkCase  Completed Time of Day  Total Pay  \n",
       "0       0        0          1         NaN        4.0  \n",
       "1       0        0          1         NaN        4.5  \n",
       "2       1        0          1         NaN        9.0  \n",
       "3       1        0          1         NaN        8.0  \n",
       "4       0        0          1         NaN        7.0  "
      ]
     },
     "execution_count": 27,
     "metadata": {},
     "output_type": "execute_result"
    }
   ],
   "source": [
    "import pandas as pd\n",
    "\n",
    "ddpath = r'C:\\Users\\curti\\Documents\\School\\SophSpring\\QMB3302\\Data Sets\\ddfile.xlsx'\n",
    "#put an r before the path if unicodeescape cant read 2-3 (i think : is the problem)\n",
    "\n",
    "master = pd.read_excel(\n",
    "    ddpath, \n",
    "    sheet_name='Master',\n",
    "    header=0)\n",
    "\n",
    "hreff = pd.read_excel(\n",
    "    ddpath, \n",
    "    sheet_name='Hourly Efficiency',\n",
    "    header=0)\n",
    "\n",
    "#reads each of the sheets in my ddfile\n",
    "master.head()"
   ]
  },
  {
   "cell_type": "code",
   "execution_count": 28,
   "id": "5cf3e808-e119-4353-92f3-2241caef84f8",
   "metadata": {},
   "outputs": [
    {
     "ename": "NameError",
     "evalue": "name 'Master' is not defined",
     "output_type": "error",
     "traceback": [
      "\u001b[1;31m---------------------------------------------------------------------------\u001b[0m",
      "\u001b[1;31mNameError\u001b[0m                                 Traceback (most recent call last)",
      "\u001b[1;32m~\\AppData\\Local\\Temp\\ipykernel_6668\\2867049331.py\u001b[0m in \u001b[0;36m<module>\u001b[1;34m\u001b[0m\n\u001b[0;32m     35\u001b[0m )\n\u001b[0;32m     36\u001b[0m \u001b[1;33m\u001b[0m\u001b[0m\n\u001b[1;32m---> 37\u001b[1;33m \u001b[0mMaster\u001b[0m\u001b[1;33m.\u001b[0m\u001b[0mto_sql\u001b[0m\u001b[1;33m(\u001b[0m\u001b[1;34m'Master'\u001b[0m\u001b[1;33m,\u001b[0m \u001b[0mdb_conn\u001b[0m\u001b[1;33m,\u001b[0m \u001b[0mif_exists\u001b[0m\u001b[1;33m=\u001b[0m\u001b[1;34m'append'\u001b[0m\u001b[1;33m,\u001b[0m \u001b[0mindex\u001b[0m\u001b[1;33m=\u001b[0m\u001b[1;32mFalse\u001b[0m\u001b[1;33m)\u001b[0m\u001b[1;33m\u001b[0m\u001b[1;33m\u001b[0m\u001b[0m\n\u001b[0m\u001b[0;32m     38\u001b[0m \u001b[0mHrEff\u001b[0m\u001b[1;33m.\u001b[0m\u001b[0mto_sql\u001b[0m\u001b[1;33m(\u001b[0m\u001b[1;34m'HrEff'\u001b[0m\u001b[1;33m,\u001b[0m \u001b[0mdb_conn\u001b[0m\u001b[1;33m,\u001b[0m \u001b[0mif_exists\u001b[0m\u001b[1;33m=\u001b[0m\u001b[1;34m'append'\u001b[0m\u001b[1;33m,\u001b[0m \u001b[0mindex\u001b[0m\u001b[1;33m=\u001b[0m\u001b[1;32mFalse\u001b[0m\u001b[1;33m)\u001b[0m\u001b[1;33m\u001b[0m\u001b[1;33m\u001b[0m\u001b[0m\n",
      "\u001b[1;31mNameError\u001b[0m: name 'Master' is not defined"
     ]
    }
   ],
   "source": [
    "db_conn = sql.connect(r'C:\\Users\\curti\\Documents\\School\\SophSpring\\QMB3302\\Data Sets\\ddfile.db')\n",
    "#creates a db file in the folder\n",
    "\n",
    "code = db_conn.cursor()\n",
    "# allows me to code in the db i just made\n",
    "\n",
    "#Created tables in SQL bc i got confused. problem was a syntax error with case. put it in \"\" in SQL and it worked:]\n",
    "c.execute(\n",
    "    \"\"\"\n",
    "CREATE TABLE IF NOT EXISTS HrEff (\n",
    "\"Case\" INTEGER,\n",
    "RecTime TIME,\n",
    "Totpay REAL,\n",
    "Tip REAL,\n",
    "Base REAL\n",
    ");\n",
    "       \"\"\"\n",
    ")\n",
    "\n",
    "c.execute(\n",
    "    \"\"\"\n",
    "CREATE TABLE IF NOT EXISTS Master (\n",
    "\"Case\" INTEGER,\n",
    "\"Date\" DATE,\n",
    "Day TEXT,\n",
    "RecTime TIME,\n",
    "Tip REAL,\n",
    "Base REAL,\n",
    "Peak REAL,\n",
    "Rest TEXT,\n",
    "DOTime TIME,\n",
    "Totpay REAL\n",
    ");\n",
    "       \"\"\"\n",
    ")\n",
    "\n",
    "Master.to_sql('Master', db_conn, if_exists='append', index=False)\n",
    "HrEff.to_sql('HrEff', db_conn, if_exists='append', index=False)"
   ]
  },
  {
   "cell_type": "code",
   "execution_count": 24,
   "id": "1377f613-2d0a-4f40-bdb2-7d27e8c9e844",
   "metadata": {},
   "outputs": [
    {
     "ename": "NameError",
     "evalue": "name 'Master' is not defined",
     "output_type": "error",
     "traceback": [
      "\u001b[1;31m---------------------------------------------------------------------------\u001b[0m",
      "\u001b[1;31mNameError\u001b[0m                                 Traceback (most recent call last)",
      "\u001b[1;32m~\\AppData\\Local\\Temp\\ipykernel_6668\\1094941070.py\u001b[0m in \u001b[0;36m<module>\u001b[1;34m\u001b[0m\n\u001b[1;32m----> 1\u001b[1;33m \u001b[0mMaster\u001b[0m\u001b[1;33m.\u001b[0m\u001b[0mto_sql\u001b[0m\u001b[1;33m(\u001b[0m\u001b[1;34m'Master'\u001b[0m\u001b[1;33m,\u001b[0m \u001b[0mdb_conn\u001b[0m\u001b[1;33m,\u001b[0m \u001b[0mif_exists\u001b[0m\u001b[1;33m=\u001b[0m\u001b[1;34m'append'\u001b[0m\u001b[1;33m,\u001b[0m \u001b[0mindex\u001b[0m\u001b[1;33m=\u001b[0m\u001b[1;32mFalse\u001b[0m\u001b[1;33m)\u001b[0m\u001b[1;33m\u001b[0m\u001b[1;33m\u001b[0m\u001b[0m\n\u001b[0m\u001b[0;32m      2\u001b[0m \u001b[0mHrEff\u001b[0m\u001b[1;33m.\u001b[0m\u001b[0mto_sql\u001b[0m\u001b[1;33m(\u001b[0m\u001b[1;34m'HrEff'\u001b[0m\u001b[1;33m,\u001b[0m \u001b[0mdb_conn\u001b[0m\u001b[1;33m,\u001b[0m \u001b[0mif_exists\u001b[0m\u001b[1;33m=\u001b[0m\u001b[1;34m'append'\u001b[0m\u001b[1;33m,\u001b[0m \u001b[0mindex\u001b[0m\u001b[1;33m=\u001b[0m\u001b[1;32mFalse\u001b[0m\u001b[1;33m)\u001b[0m\u001b[1;33m\u001b[0m\u001b[1;33m\u001b[0m\u001b[0m\n",
      "\u001b[1;31mNameError\u001b[0m: name 'Master' is not defined"
     ]
    }
   ],
   "source": [
    "Master.to_sql('Master', db_conn, if_exists='append', index=False)\n",
    "HrEff.to_sql('HrEff', db_conn, if_exists='append', index=False)"
   ]
  },
  {
   "cell_type": "code",
   "execution_count": 10,
   "id": "642aa6d4-6bcb-4e47-8ae6-4631116356ca",
   "metadata": {},
   "outputs": [
    {
     "ename": "NameError",
     "evalue": "name 'Index' is not defined",
     "output_type": "error",
     "traceback": [
      "\u001b[1;31m---------------------------------------------------------------------------\u001b[0m",
      "\u001b[1;31mNameError\u001b[0m                                 Traceback (most recent call last)",
      "\u001b[1;32m~\\AppData\\Local\\Temp\\ipykernel_26908\\2242522115.py\u001b[0m in \u001b[0;36m<module>\u001b[1;34m\u001b[0m\n\u001b[0;32m      1\u001b[0m \u001b[0mhreff\u001b[0m\u001b[1;33m.\u001b[0m\u001b[0mcolumns\u001b[0m\u001b[1;33m\u001b[0m\u001b[1;33m\u001b[0m\u001b[0m\n\u001b[1;32m----> 2\u001b[1;33m Index(['Case', 'RecTime', 'Totpay', 'Tip', 'Base'],\n\u001b[0m\u001b[0;32m      3\u001b[0m      dtype='object')\n",
      "\u001b[1;31mNameError\u001b[0m: name 'Index' is not defined"
     ]
    }
   ],
   "source": [
    "hreff.columns\n",
    "Index(['Case', 'RecTime', 'Totpay', 'Tip', 'Base'],\n",
    "     dtype='object')"
   ]
  },
  {
   "cell_type": "code",
   "execution_count": null,
   "id": "10887b2d-9731-4c1b-b8b8-5774a2ddd31a",
   "metadata": {},
   "outputs": [],
   "source": []
  }
 ],
 "metadata": {
  "kernelspec": {
   "display_name": "Python 3 (ipykernel)",
   "language": "python",
   "name": "python3"
  },
  "language_info": {
   "codemirror_mode": {
    "name": "ipython",
    "version": 3
   },
   "file_extension": ".py",
   "mimetype": "text/x-python",
   "name": "python",
   "nbconvert_exporter": "python",
   "pygments_lexer": "ipython3",
   "version": "3.9.13"
  }
 },
 "nbformat": 4,
 "nbformat_minor": 5
}
